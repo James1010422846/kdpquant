{
 "cells": [
  {
   "cell_type": "code",
   "execution_count": 6,
   "id": "7f7984cf-0728-4a7e-96d9-11c3eae1752a",
   "metadata": {
    "tags": []
   },
   "outputs": [],
   "source": [
    "\n",
    "#!pip install jupyter_nbextensions_configurator\n",
    "#!jupyter nbextension install --py widgetsnbextension --user\n",
    "\n",
    "#!pip install cufflink==0.17.3  --user"
   ]
  },
  {
   "cell_type": "code",
   "execution_count": 7,
   "id": "c8ac1ac8-38bd-42ba-ba3d-ce13492528fc",
   "metadata": {
    "tags": []
   },
   "outputs": [
    {
     "ename": "AttributeError",
     "evalue": "module 'functoolz' has no attribute 'compose'",
     "output_type": "error",
     "traceback": [
      "\u001B[1;31m---------------------------------------------------------------------------\u001B[0m",
      "\u001B[1;31mAttributeError\u001B[0m                            Traceback (most recent call last)",
      "Cell \u001B[1;32mIn [7], line 3\u001B[0m\n\u001B[0;32m      1\u001B[0m \u001B[38;5;28;01mimport\u001B[39;00m \u001B[38;5;21;01mipywidgets\u001B[39;00m \u001B[38;5;28;01mas\u001B[39;00m \u001B[38;5;21;01mwd\u001B[39;00m\n\u001B[1;32m----> 3\u001B[0m \u001B[38;5;28;01mimport\u001B[39;00m \u001B[38;5;21;01mcufflinks\u001B[39;00m \u001B[38;5;28;01mas\u001B[39;00m \u001B[38;5;21;01mcf\u001B[39;00m\n\u001B[0;32m      4\u001B[0m \u001B[38;5;28;01mimport\u001B[39;00m \u001B[38;5;21;01mpandas\u001B[39;00m \u001B[38;5;28;01mas\u001B[39;00m \u001B[38;5;21;01mpd\u001B[39;00m\n\u001B[0;32m      5\u001B[0m \u001B[38;5;28;01mimport\u001B[39;00m \u001B[38;5;21;01myfinance\u001B[39;00m \u001B[38;5;28;01mas\u001B[39;00m \u001B[38;5;21;01myf\u001B[39;00m\n",
      "File \u001B[1;32mE:\\anaconda\\lib\\site-packages\\cufflinks\\__init__.py:15\u001B[0m\n\u001B[0;32m     13\u001B[0m \u001B[38;5;28;01mfrom\u001B[39;00m \u001B[38;5;21;01m.\u001B[39;00m \u001B[38;5;28;01mimport\u001B[39;00m datagen\n\u001B[0;32m     14\u001B[0m \u001B[38;5;28;01mfrom\u001B[39;00m \u001B[38;5;21;01m.\u001B[39;00m \u001B[38;5;28;01mimport\u001B[39;00m helper\n\u001B[1;32m---> 15\u001B[0m \u001B[38;5;28;01mfrom\u001B[39;00m \u001B[38;5;21;01m.\u001B[39;00m \u001B[38;5;28;01mimport\u001B[39;00m tools\n\u001B[0;32m     16\u001B[0m \u001B[38;5;28;01mfrom\u001B[39;00m \u001B[38;5;21;01m.\u001B[39;00m \u001B[38;5;28;01mimport\u001B[39;00m colors\n\u001B[0;32m     17\u001B[0m \u001B[38;5;28;01mfrom\u001B[39;00m \u001B[38;5;21;01m.\u001B[39;00m \u001B[38;5;28;01mimport\u001B[39;00m pandastools\n",
      "File \u001B[1;32mE:\\anaconda\\lib\\site-packages\\cufflinks\\tools.py:6\u001B[0m\n\u001B[0;32m      4\u001B[0m \u001B[38;5;28;01mimport\u001B[39;00m \u001B[38;5;21;01mpandas\u001B[39;00m \u001B[38;5;28;01mas\u001B[39;00m \u001B[38;5;21;01mpd\u001B[39;00m\n\u001B[0;32m      5\u001B[0m \u001B[38;5;28;01mimport\u001B[39;00m \u001B[38;5;21;01mplotly\u001B[39;00m\u001B[38;5;21;01m.\u001B[39;00m\u001B[38;5;21;01moffline\u001B[39;00m \u001B[38;5;28;01mas\u001B[39;00m \u001B[38;5;21;01mpy_offline\u001B[39;00m\n\u001B[1;32m----> 6\u001B[0m \u001B[38;5;28;01mimport\u001B[39;00m \u001B[38;5;21;01mplotly\u001B[39;00m\u001B[38;5;21;01m.\u001B[39;00m\u001B[38;5;21;01mfigure_factory\u001B[39;00m \u001B[38;5;28;01mas\u001B[39;00m \u001B[38;5;21;01mff\u001B[39;00m\n\u001B[0;32m      7\u001B[0m \u001B[38;5;28;01mfrom\u001B[39;00m \u001B[38;5;21;01mplotly\u001B[39;00m\u001B[38;5;21;01m.\u001B[39;00m\u001B[38;5;21;01mgraph_objs\u001B[39;00m \u001B[38;5;28;01mimport\u001B[39;00m Figure, Scatter, Line\n\u001B[0;32m      8\u001B[0m \u001B[38;5;28;01mfrom\u001B[39;00m \u001B[38;5;21;01mplotly\u001B[39;00m\u001B[38;5;21;01m.\u001B[39;00m\u001B[38;5;21;01msubplots\u001B[39;00m \u001B[38;5;28;01mimport\u001B[39;00m make_subplots\n",
      "File \u001B[1;32mE:\\anaconda\\lib\\site-packages\\plotly\\figure_factory\\__init__.py:32\u001B[0m\n\u001B[0;32m     30\u001B[0m \u001B[38;5;28;01mif\u001B[39;00m optional_imports\u001B[38;5;241m.\u001B[39mget_module(\u001B[38;5;124m\"\u001B[39m\u001B[38;5;124mpandas\u001B[39m\u001B[38;5;124m\"\u001B[39m) \u001B[38;5;129;01mis\u001B[39;00m \u001B[38;5;129;01mnot\u001B[39;00m \u001B[38;5;28;01mNone\u001B[39;00m:\n\u001B[0;32m     31\u001B[0m     \u001B[38;5;28;01mfrom\u001B[39;00m \u001B[38;5;21;01mplotly\u001B[39;00m\u001B[38;5;21;01m.\u001B[39;00m\u001B[38;5;21;01mfigure_factory\u001B[39;00m\u001B[38;5;21;01m.\u001B[39;00m\u001B[38;5;21;01m_county_choropleth\u001B[39;00m \u001B[38;5;28;01mimport\u001B[39;00m create_choropleth\n\u001B[1;32m---> 32\u001B[0m     \u001B[38;5;28;01mfrom\u001B[39;00m \u001B[38;5;21;01mplotly\u001B[39;00m\u001B[38;5;21;01m.\u001B[39;00m\u001B[38;5;21;01mfigure_factory\u001B[39;00m\u001B[38;5;21;01m.\u001B[39;00m\u001B[38;5;21;01m_hexbin_mapbox\u001B[39;00m \u001B[38;5;28;01mimport\u001B[39;00m create_hexbin_mapbox\n\u001B[0;32m     33\u001B[0m \u001B[38;5;28;01melse\u001B[39;00m:\n\u001B[0;32m     35\u001B[0m     \u001B[38;5;28;01mdef\u001B[39;00m \u001B[38;5;21mcreate_choropleth\u001B[39m(\u001B[38;5;241m*\u001B[39margs, \u001B[38;5;241m*\u001B[39m\u001B[38;5;241m*\u001B[39mkwargs):\n",
      "File \u001B[1;32mE:\\anaconda\\lib\\site-packages\\plotly\\figure_factory\\_hexbin_mapbox.py:2\u001B[0m\n\u001B[0;32m      1\u001B[0m \u001B[38;5;28;01mfrom\u001B[39;00m \u001B[38;5;21;01mplotly\u001B[39;00m\u001B[38;5;21;01m.\u001B[39;00m\u001B[38;5;21;01mexpress\u001B[39;00m\u001B[38;5;21;01m.\u001B[39;00m\u001B[38;5;21;01m_core\u001B[39;00m \u001B[38;5;28;01mimport\u001B[39;00m build_dataframe\n\u001B[1;32m----> 2\u001B[0m \u001B[38;5;28;01mfrom\u001B[39;00m \u001B[38;5;21;01mplotly\u001B[39;00m\u001B[38;5;21;01m.\u001B[39;00m\u001B[38;5;21;01mexpress\u001B[39;00m\u001B[38;5;21;01m.\u001B[39;00m\u001B[38;5;21;01m_doc\u001B[39;00m \u001B[38;5;28;01mimport\u001B[39;00m make_docstring\n\u001B[0;32m      3\u001B[0m \u001B[38;5;28;01mfrom\u001B[39;00m \u001B[38;5;21;01mplotly\u001B[39;00m\u001B[38;5;21;01m.\u001B[39;00m\u001B[38;5;21;01mexpress\u001B[39;00m\u001B[38;5;21;01m.\u001B[39;00m\u001B[38;5;21;01m_chart_types\u001B[39;00m \u001B[38;5;28;01mimport\u001B[39;00m choropleth_mapbox, scatter_mapbox\n\u001B[0;32m      4\u001B[0m \u001B[38;5;28;01mimport\u001B[39;00m \u001B[38;5;21;01mnumpy\u001B[39;00m \u001B[38;5;28;01mas\u001B[39;00m \u001B[38;5;21;01mnp\u001B[39;00m\n",
      "File \u001B[1;32mE:\\anaconda\\lib\\site-packages\\plotly\\express\\__init__.py:15\u001B[0m\n\u001B[0;32m      9\u001B[0m \u001B[38;5;28;01mif\u001B[39;00m pd \u001B[38;5;129;01mis\u001B[39;00m \u001B[38;5;28;01mNone\u001B[39;00m:\n\u001B[0;32m     10\u001B[0m     \u001B[38;5;28;01mraise\u001B[39;00m \u001B[38;5;167;01mImportError\u001B[39;00m(\n\u001B[0;32m     11\u001B[0m         \u001B[38;5;124;03m\"\"\"\\\u001B[39;00m\n\u001B[0;32m     12\u001B[0m \u001B[38;5;124;03mPlotly express requires pandas to be installed.\"\"\"\u001B[39;00m\n\u001B[0;32m     13\u001B[0m     )\n\u001B[1;32m---> 15\u001B[0m \u001B[38;5;28;01mfrom\u001B[39;00m \u001B[38;5;21;01m.\u001B[39;00m\u001B[38;5;21;01m_imshow\u001B[39;00m \u001B[38;5;28;01mimport\u001B[39;00m imshow\n\u001B[0;32m     16\u001B[0m \u001B[38;5;28;01mfrom\u001B[39;00m \u001B[38;5;21;01m.\u001B[39;00m\u001B[38;5;21;01m_chart_types\u001B[39;00m \u001B[38;5;28;01mimport\u001B[39;00m (  \u001B[38;5;66;03m# noqa: F401\u001B[39;00m\n\u001B[0;32m     17\u001B[0m     scatter,\n\u001B[0;32m     18\u001B[0m     scatter_3d,\n\u001B[1;32m   (...)\u001B[0m\n\u001B[0;32m     49\u001B[0m     density_mapbox,\n\u001B[0;32m     50\u001B[0m )\n\u001B[0;32m     53\u001B[0m \u001B[38;5;28;01mfrom\u001B[39;00m \u001B[38;5;21;01m.\u001B[39;00m\u001B[38;5;21;01m_core\u001B[39;00m \u001B[38;5;28;01mimport\u001B[39;00m (  \u001B[38;5;66;03m# noqa: F401\u001B[39;00m\n\u001B[0;32m     54\u001B[0m     set_mapbox_access_token,\n\u001B[0;32m     55\u001B[0m     defaults,\n\u001B[0;32m     56\u001B[0m     get_trendline_results,\n\u001B[0;32m     57\u001B[0m     NO_COLOR,\n\u001B[0;32m     58\u001B[0m )\n",
      "File \u001B[1;32mE:\\anaconda\\lib\\site-packages\\plotly\\express\\_imshow.py:12\u001B[0m\n\u001B[0;32m      9\u001B[0m \u001B[38;5;28;01mimport\u001B[39;00m \u001B[38;5;21;01mnumpy\u001B[39;00m \u001B[38;5;28;01mas\u001B[39;00m \u001B[38;5;21;01mnp\u001B[39;00m\n\u001B[0;32m     11\u001B[0m \u001B[38;5;28;01mtry\u001B[39;00m:\n\u001B[1;32m---> 12\u001B[0m     \u001B[38;5;28;01mimport\u001B[39;00m \u001B[38;5;21;01mxarray\u001B[39;00m\n\u001B[0;32m     14\u001B[0m     xarray_imported \u001B[38;5;241m=\u001B[39m \u001B[38;5;28;01mTrue\u001B[39;00m\n\u001B[0;32m     15\u001B[0m \u001B[38;5;28;01mexcept\u001B[39;00m \u001B[38;5;167;01mImportError\u001B[39;00m:\n",
      "File \u001B[1;32mE:\\anaconda\\lib\\site-packages\\xarray\\__init__.py:1\u001B[0m\n\u001B[1;32m----> 1\u001B[0m \u001B[38;5;28;01mfrom\u001B[39;00m \u001B[38;5;21;01m.\u001B[39;00m \u001B[38;5;28;01mimport\u001B[39;00m testing, tutorial, ufuncs\n\u001B[0;32m      2\u001B[0m \u001B[38;5;28;01mfrom\u001B[39;00m \u001B[38;5;21;01m.\u001B[39;00m\u001B[38;5;21;01mbackends\u001B[39;00m\u001B[38;5;21;01m.\u001B[39;00m\u001B[38;5;21;01mapi\u001B[39;00m \u001B[38;5;28;01mimport\u001B[39;00m (\n\u001B[0;32m      3\u001B[0m     load_dataarray,\n\u001B[0;32m      4\u001B[0m     load_dataset,\n\u001B[1;32m   (...)\u001B[0m\n\u001B[0;32m      8\u001B[0m     save_mfdataset,\n\u001B[0;32m      9\u001B[0m )\n\u001B[0;32m     10\u001B[0m \u001B[38;5;28;01mfrom\u001B[39;00m \u001B[38;5;21;01m.\u001B[39;00m\u001B[38;5;21;01mbackends\u001B[39;00m\u001B[38;5;21;01m.\u001B[39;00m\u001B[38;5;21;01mrasterio_\u001B[39;00m \u001B[38;5;28;01mimport\u001B[39;00m open_rasterio\n",
      "File \u001B[1;32mE:\\anaconda\\lib\\site-packages\\xarray\\testing.py:8\u001B[0m\n\u001B[0;32m      4\u001B[0m \u001B[38;5;28;01mfrom\u001B[39;00m \u001B[38;5;21;01mtyping\u001B[39;00m \u001B[38;5;28;01mimport\u001B[39;00m Hashable, Set, Union\n\u001B[0;32m      6\u001B[0m \u001B[38;5;28;01mimport\u001B[39;00m \u001B[38;5;21;01mnumpy\u001B[39;00m \u001B[38;5;28;01mas\u001B[39;00m \u001B[38;5;21;01mnp\u001B[39;00m\n\u001B[1;32m----> 8\u001B[0m \u001B[38;5;28;01mfrom\u001B[39;00m \u001B[38;5;21;01mxarray\u001B[39;00m\u001B[38;5;21;01m.\u001B[39;00m\u001B[38;5;21;01mcore\u001B[39;00m \u001B[38;5;28;01mimport\u001B[39;00m duck_array_ops, formatting, utils\n\u001B[0;32m      9\u001B[0m \u001B[38;5;28;01mfrom\u001B[39;00m \u001B[38;5;21;01mxarray\u001B[39;00m\u001B[38;5;21;01m.\u001B[39;00m\u001B[38;5;21;01mcore\u001B[39;00m\u001B[38;5;21;01m.\u001B[39;00m\u001B[38;5;21;01mdataarray\u001B[39;00m \u001B[38;5;28;01mimport\u001B[39;00m DataArray\n\u001B[0;32m     10\u001B[0m \u001B[38;5;28;01mfrom\u001B[39;00m \u001B[38;5;21;01mxarray\u001B[39;00m\u001B[38;5;21;01m.\u001B[39;00m\u001B[38;5;21;01mcore\u001B[39;00m\u001B[38;5;21;01m.\u001B[39;00m\u001B[38;5;21;01mdataset\u001B[39;00m \u001B[38;5;28;01mimport\u001B[39;00m Dataset\n",
      "File \u001B[1;32mE:\\anaconda\\lib\\site-packages\\xarray\\core\\duck_array_ops.py:24\u001B[0m\n\u001B[0;32m     21\u001B[0m \u001B[38;5;28;01mfrom\u001B[39;00m \u001B[38;5;21;01mnumpy\u001B[39;00m \u001B[38;5;28;01mimport\u001B[39;00m take, tensordot, transpose, unravel_index  \u001B[38;5;66;03m# noqa\u001B[39;00m\n\u001B[0;32m     22\u001B[0m \u001B[38;5;28;01mfrom\u001B[39;00m \u001B[38;5;21;01mnumpy\u001B[39;00m \u001B[38;5;28;01mimport\u001B[39;00m where \u001B[38;5;28;01mas\u001B[39;00m _where\n\u001B[1;32m---> 24\u001B[0m \u001B[38;5;28;01mfrom\u001B[39;00m \u001B[38;5;21;01m.\u001B[39;00m \u001B[38;5;28;01mimport\u001B[39;00m dask_array_compat, dask_array_ops, dtypes, npcompat, nputils\n\u001B[0;32m     25\u001B[0m \u001B[38;5;28;01mfrom\u001B[39;00m \u001B[38;5;21;01m.\u001B[39;00m\u001B[38;5;21;01mnputils\u001B[39;00m \u001B[38;5;28;01mimport\u001B[39;00m nanfirst, nanlast\n\u001B[0;32m     26\u001B[0m \u001B[38;5;28;01mfrom\u001B[39;00m \u001B[38;5;21;01m.\u001B[39;00m\u001B[38;5;21;01mpycompat\u001B[39;00m \u001B[38;5;28;01mimport\u001B[39;00m (\n\u001B[0;32m     27\u001B[0m     cupy_array_type,\n\u001B[0;32m     28\u001B[0m     dask_array_type,\n\u001B[1;32m   (...)\u001B[0m\n\u001B[0;32m     31\u001B[0m     sparse_version,\n\u001B[0;32m     32\u001B[0m )\n",
      "File \u001B[1;32mE:\\anaconda\\lib\\site-packages\\xarray\\core\\dask_array_compat.py:5\u001B[0m\n\u001B[0;32m      1\u001B[0m \u001B[38;5;28;01mimport\u001B[39;00m \u001B[38;5;21;01mwarnings\u001B[39;00m\n\u001B[0;32m      3\u001B[0m \u001B[38;5;28;01mimport\u001B[39;00m \u001B[38;5;21;01mnumpy\u001B[39;00m \u001B[38;5;28;01mas\u001B[39;00m \u001B[38;5;21;01mnp\u001B[39;00m\n\u001B[1;32m----> 5\u001B[0m \u001B[38;5;28;01mfrom\u001B[39;00m \u001B[38;5;21;01m.\u001B[39;00m\u001B[38;5;21;01mpycompat\u001B[39;00m \u001B[38;5;28;01mimport\u001B[39;00m dask_version\n\u001B[0;32m      7\u001B[0m \u001B[38;5;28;01mtry\u001B[39;00m:\n\u001B[0;32m      8\u001B[0m     \u001B[38;5;28;01mimport\u001B[39;00m \u001B[38;5;21;01mdask\u001B[39;00m\u001B[38;5;21;01m.\u001B[39;00m\u001B[38;5;21;01marray\u001B[39;00m \u001B[38;5;28;01mas\u001B[39;00m \u001B[38;5;21;01mda\u001B[39;00m\n",
      "File \u001B[1;32mE:\\anaconda\\lib\\site-packages\\xarray\\core\\pycompat.py:55\u001B[0m\n\u001B[0;32m     51\u001B[0m     \u001B[38;5;28;01melse\u001B[39;00m:\n\u001B[0;32m     52\u001B[0m         \u001B[38;5;28;01mreturn\u001B[39;00m \u001B[38;5;28;01mFalse\u001B[39;00m\n\u001B[1;32m---> 55\u001B[0m dsk \u001B[38;5;241m=\u001B[39m \u001B[43mDuckArrayModule\u001B[49m\u001B[43m(\u001B[49m\u001B[38;5;124;43m\"\u001B[39;49m\u001B[38;5;124;43mdask\u001B[39;49m\u001B[38;5;124;43m\"\u001B[39;49m\u001B[43m)\u001B[49m\n\u001B[0;32m     56\u001B[0m dask_version \u001B[38;5;241m=\u001B[39m dsk\u001B[38;5;241m.\u001B[39mversion\n\u001B[0;32m     57\u001B[0m dask_array_type \u001B[38;5;241m=\u001B[39m dsk\u001B[38;5;241m.\u001B[39mtype\n",
      "File \u001B[1;32mE:\\anaconda\\lib\\site-packages\\xarray\\core\\pycompat.py:21\u001B[0m, in \u001B[0;36mDuckArrayModule.__init__\u001B[1;34m(self, mod)\u001B[0m\n\u001B[0;32m     19\u001B[0m \u001B[38;5;28;01mdef\u001B[39;00m \u001B[38;5;21m__init__\u001B[39m(\u001B[38;5;28mself\u001B[39m, mod):\n\u001B[0;32m     20\u001B[0m     \u001B[38;5;28;01mtry\u001B[39;00m:\n\u001B[1;32m---> 21\u001B[0m         duck_array_module \u001B[38;5;241m=\u001B[39m \u001B[43mimport_module\u001B[49m\u001B[43m(\u001B[49m\u001B[43mmod\u001B[49m\u001B[43m)\u001B[49m\n\u001B[0;32m     22\u001B[0m         duck_array_version \u001B[38;5;241m=\u001B[39m LooseVersion(duck_array_module\u001B[38;5;241m.\u001B[39m__version__)\n\u001B[0;32m     24\u001B[0m         \u001B[38;5;28;01mif\u001B[39;00m mod \u001B[38;5;241m==\u001B[39m \u001B[38;5;124m\"\u001B[39m\u001B[38;5;124mdask\u001B[39m\u001B[38;5;124m\"\u001B[39m:\n",
      "File \u001B[1;32mE:\\anaconda\\lib\\importlib\\__init__.py:127\u001B[0m, in \u001B[0;36mimport_module\u001B[1;34m(name, package)\u001B[0m\n\u001B[0;32m    125\u001B[0m             \u001B[38;5;28;01mbreak\u001B[39;00m\n\u001B[0;32m    126\u001B[0m         level \u001B[38;5;241m+\u001B[39m\u001B[38;5;241m=\u001B[39m \u001B[38;5;241m1\u001B[39m\n\u001B[1;32m--> 127\u001B[0m \u001B[38;5;28;01mreturn\u001B[39;00m \u001B[43m_bootstrap\u001B[49m\u001B[38;5;241;43m.\u001B[39;49m\u001B[43m_gcd_import\u001B[49m\u001B[43m(\u001B[49m\u001B[43mname\u001B[49m\u001B[43m[\u001B[49m\u001B[43mlevel\u001B[49m\u001B[43m:\u001B[49m\u001B[43m]\u001B[49m\u001B[43m,\u001B[49m\u001B[43m \u001B[49m\u001B[43mpackage\u001B[49m\u001B[43m,\u001B[49m\u001B[43m \u001B[49m\u001B[43mlevel\u001B[49m\u001B[43m)\u001B[49m\n",
      "File \u001B[1;32mE:\\anaconda\\lib\\site-packages\\dask\\__init__.py:1\u001B[0m\n\u001B[1;32m----> 1\u001B[0m \u001B[38;5;28;01mfrom\u001B[39;00m \u001B[38;5;21;01m.\u001B[39;00m \u001B[38;5;28;01mimport\u001B[39;00m config, datasets\n\u001B[0;32m      2\u001B[0m \u001B[38;5;28;01mfrom\u001B[39;00m \u001B[38;5;21;01m.\u001B[39;00m\u001B[38;5;21;01m_version\u001B[39;00m \u001B[38;5;28;01mimport\u001B[39;00m get_versions\n\u001B[0;32m      3\u001B[0m \u001B[38;5;28;01mfrom\u001B[39;00m \u001B[38;5;21;01m.\u001B[39;00m\u001B[38;5;21;01mbase\u001B[39;00m \u001B[38;5;28;01mimport\u001B[39;00m annotate, compute, is_dask_collection, optimize, persist, visualize\n",
      "File \u001B[1;32mE:\\anaconda\\lib\\site-packages\\dask\\datasets.py:3\u001B[0m\n\u001B[0;32m      1\u001B[0m \u001B[38;5;28;01mimport\u001B[39;00m \u001B[38;5;21;01mrandom\u001B[39;00m\n\u001B[1;32m----> 3\u001B[0m \u001B[38;5;28;01mfrom\u001B[39;00m \u001B[38;5;21;01m.\u001B[39;00m\u001B[38;5;21;01mutils\u001B[39;00m \u001B[38;5;28;01mimport\u001B[39;00m import_required\n\u001B[0;32m      6\u001B[0m \u001B[38;5;28;01mdef\u001B[39;00m \u001B[38;5;21mtimeseries\u001B[39m(\n\u001B[0;32m      7\u001B[0m     start\u001B[38;5;241m=\u001B[39m\u001B[38;5;124m\"\u001B[39m\u001B[38;5;124m2000-01-01\u001B[39m\u001B[38;5;124m\"\u001B[39m,\n\u001B[0;32m      8\u001B[0m     end\u001B[38;5;241m=\u001B[39m\u001B[38;5;124m\"\u001B[39m\u001B[38;5;124m2000-01-31\u001B[39m\u001B[38;5;124m\"\u001B[39m,\n\u001B[1;32m   (...)\u001B[0m\n\u001B[0;32m     13\u001B[0m     \u001B[38;5;241m*\u001B[39m\u001B[38;5;241m*\u001B[39mkwargs,\n\u001B[0;32m     14\u001B[0m ):\n\u001B[0;32m     15\u001B[0m     \u001B[38;5;124;03m\"\"\"Create timeseries dataframe with random data\u001B[39;00m\n\u001B[0;32m     16\u001B[0m \n\u001B[0;32m     17\u001B[0m \u001B[38;5;124;03m    Parameters\u001B[39;00m\n\u001B[1;32m   (...)\u001B[0m\n\u001B[0;32m     52\u001B[0m \u001B[38;5;124;03m    ... )\u001B[39;00m\n\u001B[0;32m     53\u001B[0m \u001B[38;5;124;03m    \"\"\"\u001B[39;00m\n",
      "File \u001B[1;32mE:\\anaconda\\lib\\site-packages\\dask\\utils.py:24\u001B[0m\n\u001B[0;32m     21\u001B[0m \u001B[38;5;28;01mfrom\u001B[39;00m \u001B[38;5;21;01mtyping\u001B[39;00m \u001B[38;5;28;01mimport\u001B[39;00m ClassVar, TypeVar\n\u001B[0;32m     22\u001B[0m \u001B[38;5;28;01mfrom\u001B[39;00m \u001B[38;5;21;01mweakref\u001B[39;00m \u001B[38;5;28;01mimport\u001B[39;00m WeakValueDictionary\n\u001B[1;32m---> 24\u001B[0m \u001B[38;5;28;01mimport\u001B[39;00m \u001B[38;5;21;01mtlz\u001B[39;00m \u001B[38;5;28;01mas\u001B[39;00m \u001B[38;5;21;01mtoolz\u001B[39;00m\n\u001B[0;32m     26\u001B[0m \u001B[38;5;28;01mfrom\u001B[39;00m \u001B[38;5;21;01m.\u001B[39;00m\u001B[38;5;21;01mcore\u001B[39;00m \u001B[38;5;28;01mimport\u001B[39;00m get_deps\n\u001B[0;32m     28\u001B[0m K \u001B[38;5;241m=\u001B[39m TypeVar(\u001B[38;5;124m\"\u001B[39m\u001B[38;5;124mK\u001B[39m\u001B[38;5;124m\"\u001B[39m)\n",
      "File \u001B[1;32mE:\\anaconda\\lib\\site-packages\\tlz\\__init__.py:9\u001B[0m\n\u001B[0;32m      1\u001B[0m \u001B[38;5;124;03m\"\"\"``tlz`` mirrors the ``toolz`` API and uses ``cytoolz`` if possible.\u001B[39;00m\n\u001B[0;32m      2\u001B[0m \n\u001B[0;32m      3\u001B[0m \u001B[38;5;124;03mThe ``tlz`` package is installed when ``toolz`` is installed.  It provides\u001B[39;00m\n\u001B[1;32m   (...)\u001B[0m\n\u001B[0;32m      6\u001B[0m \u001B[38;5;124;03mfunctions from ``toolz``.\u001B[39;00m\n\u001B[0;32m      7\u001B[0m \u001B[38;5;124;03m\"\"\"\u001B[39;00m\n\u001B[1;32m----> 9\u001B[0m \u001B[38;5;28;01mfrom\u001B[39;00m \u001B[38;5;21;01m.\u001B[39;00m \u001B[38;5;28;01mimport\u001B[39;00m _build_tlz\n",
      "File \u001B[1;32mE:\\anaconda\\lib\\site-packages\\tlz\\_build_tlz.py:103\u001B[0m\n\u001B[0;32m    101\u001B[0m tlz_loader \u001B[38;5;241m=\u001B[39m TlzLoader()\n\u001B[0;32m    102\u001B[0m sys\u001B[38;5;241m.\u001B[39mmeta_path\u001B[38;5;241m.\u001B[39mappend(tlz_loader)\n\u001B[1;32m--> 103\u001B[0m \u001B[43mtlz_loader\u001B[49m\u001B[38;5;241;43m.\u001B[39;49m\u001B[43mexec_module\u001B[49m\u001B[43m(\u001B[49m\u001B[43msys\u001B[49m\u001B[38;5;241;43m.\u001B[39;49m\u001B[43mmodules\u001B[49m\u001B[43m[\u001B[49m\u001B[38;5;124;43m'\u001B[39;49m\u001B[38;5;124;43mtlz\u001B[39;49m\u001B[38;5;124;43m'\u001B[39;49m\u001B[43m]\u001B[49m\u001B[43m)\u001B[49m\n",
      "File \u001B[1;32mE:\\anaconda\\lib\\site-packages\\tlz\\_build_tlz.py:54\u001B[0m, in \u001B[0;36mTlzLoader.exec_module\u001B[1;34m(self, module)\u001B[0m\n\u001B[0;32m     53\u001B[0m \u001B[38;5;28;01mdef\u001B[39;00m \u001B[38;5;21mexec_module\u001B[39m(\u001B[38;5;28mself\u001B[39m, module):\n\u001B[1;32m---> 54\u001B[0m     toolz_mods \u001B[38;5;241m=\u001B[39m \u001B[38;5;28;43mself\u001B[39;49m\u001B[38;5;241;43m.\u001B[39;49m\u001B[43m_load_toolz\u001B[49m\u001B[43m(\u001B[49m\u001B[43mmodule\u001B[49m\u001B[38;5;241;43m.\u001B[39;49m\u001B[38;5;18;43m__name__\u001B[39;49m\u001B[43m)\u001B[49m\n\u001B[0;32m     55\u001B[0m     fast_mod \u001B[38;5;241m=\u001B[39m toolz_mods\u001B[38;5;241m.\u001B[39mget(\u001B[38;5;124m'\u001B[39m\u001B[38;5;124mcytoolz\u001B[39m\u001B[38;5;124m'\u001B[39m) \u001B[38;5;129;01mor\u001B[39;00m toolz_mods[\u001B[38;5;124m'\u001B[39m\u001B[38;5;124mtoolz\u001B[39m\u001B[38;5;124m'\u001B[39m]\n\u001B[0;32m     56\u001B[0m     slow_mod \u001B[38;5;241m=\u001B[39m toolz_mods\u001B[38;5;241m.\u001B[39mget(\u001B[38;5;124m'\u001B[39m\u001B[38;5;124mtoolz\u001B[39m\u001B[38;5;124m'\u001B[39m) \u001B[38;5;129;01mor\u001B[39;00m toolz_mods[\u001B[38;5;124m'\u001B[39m\u001B[38;5;124mcytoolz\u001B[39m\u001B[38;5;124m'\u001B[39m]\n",
      "File \u001B[1;32mE:\\anaconda\\lib\\site-packages\\tlz\\_build_tlz.py:19\u001B[0m, in \u001B[0;36mTlzLoader._load_toolz\u001B[1;34m(self, fullname)\u001B[0m\n\u001B[0;32m     17\u001B[0m \u001B[38;5;28;01mtry\u001B[39;00m:\n\u001B[0;32m     18\u001B[0m     module_name \u001B[38;5;241m=\u001B[39m \u001B[38;5;124m'\u001B[39m\u001B[38;5;124m'\u001B[39m\u001B[38;5;241m.\u001B[39mjoin([\u001B[38;5;124m'\u001B[39m\u001B[38;5;124mcytoolz\u001B[39m\u001B[38;5;124m'\u001B[39m, dot, submodules])\n\u001B[1;32m---> 19\u001B[0m     rv[\u001B[38;5;124m'\u001B[39m\u001B[38;5;124mcytoolz\u001B[39m\u001B[38;5;124m'\u001B[39m] \u001B[38;5;241m=\u001B[39m \u001B[43mimport_module\u001B[49m\u001B[43m(\u001B[49m\u001B[43mmodule_name\u001B[49m\u001B[43m)\u001B[49m\n\u001B[0;32m     20\u001B[0m \u001B[38;5;28;01mexcept\u001B[39;00m \u001B[38;5;167;01mImportError\u001B[39;00m:\n\u001B[0;32m     21\u001B[0m     \u001B[38;5;28;01mpass\u001B[39;00m\n",
      "File \u001B[1;32mE:\\anaconda\\lib\\importlib\\__init__.py:127\u001B[0m, in \u001B[0;36mimport_module\u001B[1;34m(name, package)\u001B[0m\n\u001B[0;32m    125\u001B[0m             \u001B[38;5;28;01mbreak\u001B[39;00m\n\u001B[0;32m    126\u001B[0m         level \u001B[38;5;241m+\u001B[39m\u001B[38;5;241m=\u001B[39m \u001B[38;5;241m1\u001B[39m\n\u001B[1;32m--> 127\u001B[0m \u001B[38;5;28;01mreturn\u001B[39;00m \u001B[43m_bootstrap\u001B[49m\u001B[38;5;241;43m.\u001B[39;49m\u001B[43m_gcd_import\u001B[49m\u001B[43m(\u001B[49m\u001B[43mname\u001B[49m\u001B[43m[\u001B[49m\u001B[43mlevel\u001B[49m\u001B[43m:\u001B[49m\u001B[43m]\u001B[49m\u001B[43m,\u001B[49m\u001B[43m \u001B[49m\u001B[43mpackage\u001B[49m\u001B[43m,\u001B[49m\u001B[43m \u001B[49m\u001B[43mlevel\u001B[49m\u001B[43m)\u001B[49m\n",
      "File \u001B[1;32mE:\\anaconda\\lib\\site-packages\\cytoolz\\__init__.py:16\u001B[0m\n\u001B[0;32m     13\u001B[0m \u001B[38;5;28mfilter\u001B[39m \u001B[38;5;241m=\u001B[39m \u001B[38;5;28mfilter\u001B[39m\n\u001B[0;32m     15\u001B[0m \u001B[38;5;66;03m# Aliases\u001B[39;00m\n\u001B[1;32m---> 16\u001B[0m comp \u001B[38;5;241m=\u001B[39m \u001B[43mfuto\u001B[49m\u001B[38;5;241;43m.\u001B[39;49m\u001B[43mcompose\u001B[49m\n\u001B[0;32m     18\u001B[0m \u001B[38;5;66;03m# Always-curried functions\u001B[39;00m\n\u001B[0;32m     19\u001B[0m flip \u001B[38;5;241m=\u001B[39m functoolz\u001B[38;5;241m.\u001B[39mflip \u001B[38;5;241m=\u001B[39m curry(functoolz\u001B[38;5;241m.\u001B[39mflip)\n",
      "\u001B[1;31mAttributeError\u001B[0m: module 'functoolz' has no attribute 'compose'"
     ]
    }
   ],
   "source": [
    "import ipywidgets as wd\n",
    "\n",
    "import cufflinks as cf\n",
    "import pandas as pd\n",
    "import yfinance as yf\n",
    "from plotly.offline import iplot,init_notebook_mode\n",
    "from ipywidgets import interact, interact_manual\n",
    "init_notebook_mode()"
   ]
  },
  {
   "cell_type": "code",
   "execution_count": null,
   "id": "a3abfae7-a7c9-43de-8989-212e46cd2b33",
   "metadata": {},
   "outputs": [],
   "source": [
    "stocks = ['TWTR','MSFT','GOOGL','FB','TSLA','AAPL']\n",
    "indicators = ['Bollinger Bands','MACD','RSI']"
   ]
  },
  {
   "cell_type": "code",
   "execution_count": null,
   "id": "7f10502d-4092-4916-920d-cd1abc9ba9e6",
   "metadata": {},
   "outputs": [],
   "source": [
    "def ta_dashboard(asset,indicator,start_date,end_date,\n",
    "                bb_k,bb_n,macd_fast,macd_slow,macd_signal,\n",
    "                rsi_periods,rsi_upper,rsi_lower):\n",
    "    df = yf.download(asset,\n",
    "                    start = start_date,\n",
    "                    end = end_date,\n",
    "                    progress = False,\n",
    "                    auto_adjust = True)\n",
    "    qf = cf.QuantFig(df,\n",
    "                    title=f'TA Dashboard - {asset}',\n",
    "                    legend = 'right',name=f'{asset}')\n",
    "    if 'Bollinger Bands' in indicator:\n",
    "        qf.add_bollinger_bands(periods=bb_n,boll_std=bb_k)\n",
    "    if 'MACD' in indicator:\n",
    "        qf.add_macd(fast_periods=macd_fast,\n",
    "                    slow_periods=macd_slow,\n",
    "                    signal_periods=macd_signal)   \n",
    "    if 'RSI' in indicator:\n",
    "        qf.add_rsi(periods=rsi_periods,\n",
    "                  rsi_upper = rsi_upper,\n",
    "                  rsi_lower = rsi_lower,\n",
    "                  showbands = True)\n",
    "    return qf.iplot()"
   ]
  },
  {
   "cell_type": "code",
   "execution_count": null,
   "id": "8c4f58bc-f5c1-418b-9906-79fa16ceb8a8",
   "metadata": {},
   "outputs": [],
   "source": [
    "stocks_selector = wd.Dropdown(options= stocks,\n",
    "                             value=stocks[0],\n",
    "                             description='Asset')\n",
    "\n",
    "indicator_selector = wd.SelectMultiple(options= indicators,\n",
    "                                 value=[indicators[0]],\n",
    "                                 description='Indicator')\n",
    "start_date_selector = wd.DatePicker(continuous_update= False,\n",
    "                                 value=pd.to_datetime('2021-01-01'),\n",
    "                                 description='Start Date')\n",
    "end_date_selector = wd.DatePicker(continuous_update= False,\n",
    "                                 value=pd.to_datetime('2021-12-31'),\n",
    "                                 description='End Date')                                                                    "
   ]
  },
  {
   "cell_type": "code",
   "execution_count": null,
   "id": "94c4220e-a17c-449a-bc03-e63b6ce0cab9",
   "metadata": {},
   "outputs": [],
   "source": [
    "main_selector_label = wd.Label('Main parameters',\n",
    "                              layout = wd.Layout(height='45px'))\n",
    "main_selector_box = wd.VBox(children=[main_selector_label,\n",
    "                                      stocks_selector,\n",
    "                                      indicator_selector,\n",
    "                                      start_date_selector,\n",
    "                                      end_date_selector])                        "
   ]
  },
  {
   "cell_type": "code",
   "execution_count": null,
   "id": "3551b09b-b401-4be9-8d18-126085a0e7c3",
   "metadata": {},
   "outputs": [],
   "source": [
    "bb_label = wd.Label('Bollinger Bands')\n",
    "\n",
    "n_param = wd.IntSlider(value =20,min=1,\n",
    "                     max=40,step=1,\n",
    "                     description='N:',\n",
    "                     continuous_update=False)\n",
    "k_param = wd.FloatSlider(value=2,min=0.5,\n",
    "                        max=4,step=0.5,\n",
    "                        description='k:',\n",
    "                        continuous_update=False)\n",
    "bollinger_box = wd.VBox(children=[bb_label,n_param,k_param])"
   ]
  },
  {
   "cell_type": "code",
   "execution_count": null,
   "id": "1679e100-578b-4808-80d0-d0b9499fddc1",
   "metadata": {},
   "outputs": [],
   "source": [
    "macd_label = wd.Label('MACD')\n",
    "\n",
    "macd_fast = wd.IntSlider(value =12,min=2,\n",
    "                     max=50,step=1,\n",
    "                     description='Fast avg:',\n",
    "                     continuous_update=False)\n",
    "macd_slow = wd.IntSlider(value =26,min=2,\n",
    "                     max=50,step=1,\n",
    "                     description='Slow avg:',\n",
    "                     continuous_update=False)\n",
    "macd_signal = wd.IntSlider(value =9,min=2,\n",
    "                     max=50,step=1,\n",
    "                     description='MACD signal:',\n",
    "                     continuous_update=False)\n",
    "macd_box = wd.VBox(children=[macd_label,macd_fast,macd_slow,macd_signal])"
   ]
  },
  {
   "cell_type": "code",
   "execution_count": null,
   "id": "963f2e93-14f9-4171-a1f2-4399fdc68eda",
   "metadata": {},
   "outputs": [],
   "source": [
    "rsi_label = wd.Label('RSI')\n",
    "\n",
    "rsi_periods = wd.IntSlider(value =14,min=2,\n",
    "                     max=50,step=1,\n",
    "                     description='RSI periods:',\n",
    "                     continuous_update=False)\n",
    "\n",
    "rsi_upper = wd.IntSlider(value = 70,min=1,\n",
    "                     max=100,step=1,\n",
    "                     description='Upper Thr:',\n",
    "                     continuous_update=False)\n",
    "rsi_lower = wd.IntSlider(value = 30,min=1,\n",
    "                     max=100,step=1,\n",
    "                     description='Lower Thr:',\n",
    "                     continuous_update=False)\n",
    "rsi_box = wd.VBox(children=[rsi_label,rsi_periods,rsi_upper,rsi_lower])"
   ]
  },
  {
   "cell_type": "code",
   "execution_count": null,
   "id": "addc627f-f75a-451a-b0f9-a0e5d0b63e69",
   "metadata": {},
   "outputs": [],
   "source": [
    "sec_selector_label = wd.Label('Secondary parameters',layout=wd.Layout(height='45px'))\n",
    "blank_label = wd.Label('',layout=wd.Layout(height='45px'))\n",
    "sec_box_1 = wd.VBox([sec_selector_label,bollinger_box,macd_box])\n",
    "sec_box_2 = wd.VBox([blank_label,rsi_box])\n",
    "secondary_selector_box = wd.HBox([sec_box_1,sec_box_2])"
   ]
  },
  {
   "cell_type": "code",
   "execution_count": null,
   "id": "f6d3a22b-36f6-4ffb-b8aa-b5fb5bf46d8e",
   "metadata": {},
   "outputs": [],
   "source": [
    "controls_dict = {'asset':stocks_selector,\n",
    "                'indicator':indicator_selector,\n",
    "                 'start_date':start_date_selector,\n",
    "                 'end_date':end_date_selector,\n",
    "                 'bb_k':k_param,\n",
    "                 'bb_n':n_param,\n",
    "                 'macd_fast':macd_fast,\n",
    "                 'macd_slow':macd_slow,\n",
    "                 'macd_signal':macd_signal,\n",
    "                 'rsi_periods':rsi_periods,\n",
    "                 'rsi_upper':rsi_upper,\n",
    "                 'rsi_lower':rsi_lower,\n",
    "                }\n",
    "ui = wd.HBox([main_selector_box,secondary_selector_box])\n",
    "out = wd.interactive_output(ta_dashboard,controls_dict)"
   ]
  },
  {
   "cell_type": "code",
   "execution_count": null,
   "id": "654a011f-9a65-4d91-9f28-b14a09c0e9bf",
   "metadata": {},
   "outputs": [],
   "source": [
    "display(ui,out)"
   ]
  },
  {
   "cell_type": "code",
   "execution_count": null,
   "outputs": [],
   "source": [],
   "metadata": {
    "collapsed": false,
    "pycharm": {
     "name": "#%%\n"
    }
   }
  }
 ],
 "metadata": {
  "kernelspec": {
   "name": "python3",
   "language": "python",
   "display_name": "Python 3 (ipykernel)"
  },
  "language_info": {
   "codemirror_mode": {
    "name": "ipython",
    "version": 3
   },
   "file_extension": ".py",
   "mimetype": "text/x-python",
   "name": "python",
   "nbconvert_exporter": "python",
   "pygments_lexer": "ipython3",
   "version": "3.9.12"
  }
 },
 "nbformat": 4,
 "nbformat_minor": 5
}